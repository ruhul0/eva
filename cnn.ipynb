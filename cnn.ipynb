{
  "nbformat": 4,
  "nbformat_minor": 0,
  "metadata": {
    "colab": {
      "name": "cnn",
      "provenance": []
    },
    "kernelspec": {
      "name": "python3",
      "display_name": "Python 3"
    }
  },
  "cells": [
    {
      "cell_type": "code",
      "metadata": {
        "id": "u-bjR5k73nUo"
      },
      "source": [
        "#%% Setup.\n",
        "import numpy as np\n",
        "\n",
        "from keras.datasets import cifar10, mnist\n",
        "from keras.utils.visualize_util import plot\n",
        "from keras.callbacks import TensorBoard, ModelCheckpoint\n",
        "\n",
        "from eva.models.pixelcnn import PixelCNN\n",
        "from eva.models.gated_pixelcnn import GatedPixelCNN\n",
        "\n",
        "from eva.util.mutil import clean_data\n",
        "\n",
        "#%% Data.\n",
        "DATASET = mnist\n",
        "\n",
        "DATA, LABELS = clean_data(DATASET.load_data(), rgb=True, latent=True)\n",
        "\n",
        "#%% Model.\n",
        "MODEL = GatedPixelCNN\n",
        "FILTERS = 126\n",
        "DEPTH = 12\n",
        "\n",
        "LOAD = False\n",
        "\n",
        "ARGS = (DATA.shape[1:], FILTERS, DEPTH)\n",
        "if MODEL == GatedPixelCNN and LABELS is not None:\n",
        "    ARGS += (1,)\n",
        "\n",
        "M = MODEL(*ARGS)\n",
        "if LOAD:\n",
        "    M.load_weights('model.h5')\n",
        "\n",
        "M.summary()\n",
        "\n",
        "plot(M)\n",
        "\n",
        "#%% Train.\n",
        "M.fit(DATA if LABELS is None else [DATA, LABELS],\n",
        "      [(np.expand_dims(DATA[:, :, :, c].reshape(DATA.shape[0], DATA.shape[1]*DATA.shape[2]), -1)*255).astype(int) for c in range(DATA.shape[3])],\n",
        "      batch_size=32, nb_epoch=200,\n",
        "      verbose=1, callbacks=[TensorBoard(), ModelCheckpoint('model.h5', save_weights_only=True)]) # Only weights because Keras is a bitch."
      ],
      "execution_count": null,
      "outputs": []
    }
  ]
}